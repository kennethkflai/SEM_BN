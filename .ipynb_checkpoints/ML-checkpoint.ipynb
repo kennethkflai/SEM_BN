{
 "cells": [
  {
   "cell_type": "code",
   "execution_count": 8,
   "id": "6f119848",
   "metadata": {},
   "outputs": [],
   "source": [
    "import os, random\n",
    "import matplotlib.pyplot as plt\n",
    "import pyAgrum as gum\n",
    "import pyAgrum.lib.notebook as gnb\n",
    "import numpy as np\n",
    "import pandas as pd"
   ]
  },
  {
   "cell_type": "code",
   "execution_count": 2,
   "id": "9b1db81a",
   "metadata": {},
   "outputs": [
    {
     "data": {
      "text/html": [
       "<svg xmlns=\"http://www.w3.org/2000/svg\" xmlns:xlink=\"http://www.w3.org/1999/xlink\" width=\"288pt\" height=\"116pt\" viewBox=\"0.00 0.00 288.20 116.00\">\n",
       "<g id=\"graph0\" class=\"graph\" transform=\"scale(1 1) rotate(0) translate(4 112)\">\n",
       "<title>G</title>\n",
       "<!-- HR -->\n",
       "<g id=\"node1\" class=\"node\">\n",
       "<title>HR</title>\n",
       "<g id=\"a_node1\"><a xlink:title=\"(1) HR\">\n",
       "<ellipse fill=\"#404040\" stroke=\"black\" cx=\"27\" cy=\"-90\" rx=\"27\" ry=\"18\"/>\n",
       "<text text-anchor=\"middle\" x=\"27\" y=\"-86.3\" font-family=\"Times New Roman,serif\" font-size=\"14.00\" fill=\"white\">HR</text>\n",
       "</a>\n",
       "</g>\n",
       "</g>\n",
       "<!-- Physiological Workload -->\n",
       "<g id=\"node5\" class=\"node\">\n",
       "<title>Physiological Workload</title>\n",
       "<g id=\"a_node5\"><a xlink:title=\"(4) Physiological Workload\">\n",
       "<ellipse fill=\"#404040\" stroke=\"black\" cx=\"136\" cy=\"-18\" rx=\"94.78\" ry=\"18\"/>\n",
       "<text text-anchor=\"middle\" x=\"136\" y=\"-14.3\" font-family=\"Times New Roman,serif\" font-size=\"14.00\" fill=\"white\">Physiological Workload</text>\n",
       "</a>\n",
       "</g>\n",
       "</g>\n",
       "<!-- HR&#45;&gt;Physiological Workload -->\n",
       "<g id=\"edge4\" class=\"edge\">\n",
       "<title>HR-&gt;Physiological Workload</title>\n",
       "<g id=\"a_edge4\"><a xlink:title=\"1 → 4\">\n",
       "<path fill=\"none\" stroke=\"#4a4a4a\" d=\"M45.99,-76.81C61.36,-66.93 83.42,-52.77 101.85,-40.93\"/>\n",
       "<polygon fill=\"#4a4a4a\" stroke=\"#4a4a4a\" points=\"103.77,-43.86 110.29,-35.51 99.98,-37.97 103.77,-43.86\"/>\n",
       "</a>\n",
       "</g>\n",
       "</g>\n",
       "<!-- GSR -->\n",
       "<g id=\"node2\" class=\"node\">\n",
       "<title>GSR</title>\n",
       "<g id=\"a_node2\"><a xlink:title=\"(3) GSR\">\n",
       "<ellipse fill=\"#404040\" stroke=\"black\" cx=\"100\" cy=\"-90\" rx=\"27.9\" ry=\"18\"/>\n",
       "<text text-anchor=\"middle\" x=\"100\" y=\"-86.3\" font-family=\"Times New Roman,serif\" font-size=\"14.00\" fill=\"white\">GSR</text>\n",
       "</a>\n",
       "</g>\n",
       "</g>\n",
       "<!-- GSR&#45;&gt;Physiological Workload -->\n",
       "<g id=\"edge3\" class=\"edge\">\n",
       "<title>GSR-&gt;Physiological Workload</title>\n",
       "<g id=\"a_edge3\"><a xlink:title=\"3 → 4\">\n",
       "<path fill=\"none\" stroke=\"#4a4a4a\" d=\"M108.35,-72.76C112.54,-64.61 117.73,-54.53 122.47,-45.31\"/>\n",
       "<polygon fill=\"#4a4a4a\" stroke=\"#4a4a4a\" points=\"125.73,-46.62 127.19,-36.12 119.51,-43.42 125.73,-46.62\"/>\n",
       "</a>\n",
       "</g>\n",
       "</g>\n",
       "<!-- RR -->\n",
       "<g id=\"node3\" class=\"node\">\n",
       "<title>RR</title>\n",
       "<g id=\"a_node3\"><a xlink:title=\"(0) RR\">\n",
       "<ellipse fill=\"#404040\" stroke=\"black\" cx=\"173\" cy=\"-90\" rx=\"27\" ry=\"18\"/>\n",
       "<text text-anchor=\"middle\" x=\"173\" y=\"-86.3\" font-family=\"Times New Roman,serif\" font-size=\"14.00\" fill=\"white\">RR</text>\n",
       "</a>\n",
       "</g>\n",
       "</g>\n",
       "<!-- RR&#45;&gt;Physiological Workload -->\n",
       "<g id=\"edge2\" class=\"edge\">\n",
       "<title>RR-&gt;Physiological Workload</title>\n",
       "<g id=\"a_edge2\"><a xlink:title=\"0 → 4\">\n",
       "<path fill=\"none\" stroke=\"#4a4a4a\" d=\"M164.42,-72.76C160.06,-64.53 154.67,-54.32 149.75,-45.02\"/>\n",
       "<polygon fill=\"#4a4a4a\" stroke=\"#4a4a4a\" points=\"152.82,-43.33 145.05,-36.12 146.63,-46.6 152.82,-43.33\"/>\n",
       "</a>\n",
       "</g>\n",
       "</g>\n",
       "<!-- Temp -->\n",
       "<g id=\"node4\" class=\"node\">\n",
       "<title>Temp</title>\n",
       "<g id=\"a_node4\"><a xlink:title=\"(2) Temp\">\n",
       "<ellipse fill=\"#404040\" stroke=\"black\" cx=\"249\" cy=\"-90\" rx=\"31.4\" ry=\"18\"/>\n",
       "<text text-anchor=\"middle\" x=\"249\" y=\"-86.3\" font-family=\"Times New Roman,serif\" font-size=\"14.00\" fill=\"white\">Temp</text>\n",
       "</a>\n",
       "</g>\n",
       "</g>\n",
       "<!-- Temp&#45;&gt;Physiological Workload -->\n",
       "<g id=\"edge1\" class=\"edge\">\n",
       "<title>Temp-&gt;Physiological Workload</title>\n",
       "<g id=\"a_edge1\"><a xlink:title=\"2 → 4\">\n",
       "<path fill=\"none\" stroke=\"#4a4a4a\" d=\"M228.54,-76.32C212.61,-66.46 190.14,-52.54 171.32,-40.88\"/>\n",
       "<polygon fill=\"#4a4a4a\" stroke=\"#4a4a4a\" points=\"173.05,-37.83 162.7,-35.54 169.36,-43.78 173.05,-37.83\"/>\n",
       "</a>\n",
       "</g>\n",
       "</g>\n",
       "</g>\n",
       "</svg>"
      ],
      "text/plain": [
       "(pyAgrum.BayesNet<double>@0000017655076C90) BN{nodes: 5, arcs: 4, domainSize: 32, dim: 20, mem: 320o}"
      ]
     },
     "execution_count": 2,
     "metadata": {},
     "output_type": "execute_result"
    }
   ],
   "source": [
    "model = gum.BayesNet()\n",
    "\n",
    "nodeList = [\"RR\",\n",
    "            \"HR\",\n",
    "            \"Temp\",\n",
    "            \"GSR\",\n",
    "            \"Physiological Workload\"\n",
    "           ]\n",
    "\n",
    "#maxRange = 2\n",
    "#bins={n:[i for i in range(maxRange)] for n in nodeList}\n",
    "\n",
    "classLabels = [\"Rest\", \"Load\"]\n",
    "\n",
    "for node in nodeList:\n",
    "    model.add(gum.LabelizedVariable(node,node,classLabels))\n",
    "\n",
    "model.addArc('RR','Physiological Workload')\n",
    "model.addArc('HR','Physiological Workload')\n",
    "model.addArc('Temp','Physiological Workload')\n",
    "model.addArc('GSR','Physiological Workload')\n",
    "\n",
    "model"
   ]
  },
  {
   "cell_type": "code",
   "execution_count": 29,
   "id": "4c14b74e",
   "metadata": {},
   "outputs": [
    {
     "ename": "AttributeError",
     "evalue": "'str' object has no attribute 'cpt'",
     "output_type": "error",
     "traceback": [
      "\u001b[1;31m---------------------------------------------------------------------------\u001b[0m",
      "\u001b[1;31mAttributeError\u001b[0m                            Traceback (most recent call last)",
      "Input \u001b[1;32mIn [29]\u001b[0m, in \u001b[0;36m<cell line: 1>\u001b[1;34m()\u001b[0m\n\u001b[1;32m----> 1\u001b[0m \u001b[43mmodel\u001b[49m\u001b[38;5;241;43m.\u001b[39;49m\u001b[43mcpt\u001b[49m(\u001b[38;5;124m\"\u001b[39m\u001b[38;5;124mRR\u001b[39m\u001b[38;5;124m\"\u001b[39m)[:]\u001b[38;5;241m=\u001b[39m\u001b[38;5;241m1\u001b[39m\n\u001b[0;32m      2\u001b[0m model\u001b[38;5;241m.\u001b[39mcpt(\u001b[38;5;124m\"\u001b[39m\u001b[38;5;124mHR\u001b[39m\u001b[38;5;124m\"\u001b[39m)[:]\u001b[38;5;241m=\u001b[39m\u001b[38;5;241m1\u001b[39m\n\u001b[0;32m      3\u001b[0m model\u001b[38;5;241m.\u001b[39mcpt(\u001b[38;5;124m\"\u001b[39m\u001b[38;5;124mGSR\u001b[39m\u001b[38;5;124m\"\u001b[39m)[:]\u001b[38;5;241m=\u001b[39m\u001b[38;5;241m1\u001b[39m\n",
      "\u001b[1;31mAttributeError\u001b[0m: 'str' object has no attribute 'cpt'"
     ]
    }
   ],
   "source": [
    "model.cpt(\"RR\")[:]=1\n",
    "model.cpt(\"HR\")[:]=1\n",
    "model.cpt(\"GSR\")[:]=1\n",
    "model.cpt(\"Temp\")[:]=1\n",
    "model.cpt(\"Physiological Workload\")[:]=1\n",
    "\n",
    "frames = 64\n",
    "skip = 1\n",
    "#for index, p in enumerate(nodeList[:-1]):\n",
    "modelType = \"TCN+LSTM\"\n",
    "#model = \"LSTM\"\n",
    "p = \"Temp\"\n",
    "predict_path = f\".\\\\save\\\\{modelType}\\\\{p}_frame{frames}_skip{skip}_predict_test.npy\"\n",
    "truth_path = f\".\\\\save\\\\{modelType}\\\\{p}_frame{frames}_skip{skip}_truth_test.npy\"\n",
    "prediction = np.load(predict_path)\n",
    "truth = np.load(truth_path)"
   ]
  },
  {
   "cell_type": "code",
   "execution_count": 27,
   "id": "4caa5c14",
   "metadata": {},
   "outputs": [
    {
     "data": {
      "text/plain": [
       "array([1], dtype=int64)"
      ]
     },
     "execution_count": 27,
     "metadata": {},
     "output_type": "execute_result"
    }
   ],
   "source": [
    "np.unique(prediction)"
   ]
  },
  {
   "cell_type": "code",
   "execution_count": null,
   "id": "c38ba073",
   "metadata": {},
   "outputs": [],
   "source": []
  }
 ],
 "metadata": {
  "kernelspec": {
   "display_name": "Python 3 (ipykernel)",
   "language": "python",
   "name": "python3"
  },
  "language_info": {
   "codemirror_mode": {
    "name": "ipython",
    "version": 3
   },
   "file_extension": ".py",
   "mimetype": "text/x-python",
   "name": "python",
   "nbconvert_exporter": "python",
   "pygments_lexer": "ipython3",
   "version": "3.9.12"
  }
 },
 "nbformat": 4,
 "nbformat_minor": 5
}
